{
 "cells": [
  {
   "cell_type": "code",
   "execution_count": 2,
   "id": "370fa7cc-6e16-4abe-978f-9472fe05db1e",
   "metadata": {},
   "outputs": [
    {
     "name": "stderr",
     "output_type": "stream",
     "text": [
      "24/05/21 21:10:42 WARN Utils: Your hostname, chuot-HP-Pavilion-Laptop-14-ce3xxx resolves to a loopback address: 127.0.1.1; using 192.168.1.5 instead (on interface wlo1)\n",
      "24/05/21 21:10:42 WARN Utils: Set SPARK_LOCAL_IP if you need to bind to another address\n",
      "Setting default log level to \"WARN\".\n",
      "To adjust logging level use sc.setLogLevel(newLevel). For SparkR, use setLogLevel(newLevel).\n",
      "24/05/21 21:10:48 WARN NativeCodeLoader: Unable to load native-hadoop library for your platform... using builtin-java classes where applicable\n",
      "24/05/21 21:10:49 WARN Utils: Service 'SparkUI' could not bind on port 4040. Attempting port 4041.\n"
     ]
    }
   ],
   "source": [
    "import findspark\n",
    "findspark.init('/opt/spark')  # Adjust the path if Spark is installed elsewhere\n",
    "\n",
    "from pyspark.sql import SparkSession\n",
    "spark = SparkSession.builder.master(\"local\").appName(\"example\").getOrCreate()"
   ]
  },
  {
   "cell_type": "code",
   "execution_count": 36,
   "id": "7e6d42a9-d8fc-4066-a8a6-a6f15ab149ca",
   "metadata": {},
   "outputs": [
    {
     "name": "stdout",
     "output_type": "stream",
     "text": [
      "Khác\n",
      "Toàn thời gian cố định\n",
      "Bán thời gian cố định\n",
      "Toàn thời gian tạm thời\n"
     ]
    }
   ],
   "source": [
    "# Define the path to your JSON file\n",
    "from pyspark.sql.functions import col, udf, to_date, when, regexp_extract, explode, col, regexp_replace\n",
    "from pyspark.sql.types import StructType, StructField, IntegerType, FloatType, StringType\n",
    "import json\n",
    "json_file_path = 'vieclam24h.json'\n",
    "# Read the JSON file into a DataFrame\n",
    "df = spark.read.option(\"multiline\",\"true\").json(json_file_path)\n",
    "\n",
    "# df_exploded = df.select(explode(col(\"category\")).alias(\"unique_category\"))\n",
    "\n",
    "# unique_categories = df_exploded.select(\"unique_category\").distinct().collect()\n",
    "# print(len(unique_categories))\n",
    "# for row in unique_categories:\n",
    "#     pass\n",
    "#     print(row.unique_category)\n",
    "# unique_experience_df = df.select(\"experience\").distinct()\n",
    "\n",
    "# unique_experience_df.show()\n",
    "\n",
    "# from pyspark.sql.functions import col\n",
    "unique_values = df.select(col(\"type\")).distinct().collect()\n",
    "\n",
    "# In ra các giá trị duy nhất\n",
    "for row in unique_values:\n",
    "    print(row.type)\n",
    "\n",
    "\n",
    "\n",
    "\n",
    "\n",
    "#rdd.toDF().select(\"salary\").show(1)\n",
    "\n",
    "# Salary\n"
   ]
  },
  {
   "cell_type": "code",
   "execution_count": null,
   "id": "8a60b22f-12a0-49dd-8dea-3eff6c326da1",
   "metadata": {},
   "outputs": [],
   "source": [
    "# Salary\n",
    "def parse_salary(salary):\n",
    "    if salary is None or salary.lower() == \"thỏa thuận\":\n",
    "        return json.dumps({\"type\": 2, \"min\": None, \"max\": None, \"fixed_value\": None})\n",
    "    elif \"triệu\" in salary:\n",
    "        salary = salary.replace(\" triệu\", \"\").replace(\",\", \".\").strip()\n",
    "        if \"-\" in salary:\n",
    "            min_salary, max_salary = salary.split(\"-\")\n",
    "            return json.dumps({\"type\": 1, \"min\": float(min_salary), \"max\": float(max_salary), \"fixed_value\": None})\n",
    "        else:\n",
    "            return json.dumps({\"type\": 0, \"min\": None, \"max\": None, \"fixed_value\": float(salary)})\n",
    "    return json.dumps({\"type\": 2, \"min\": None, \"max\": None, \"fixed_value\": None})\n",
    "\n",
    "parse_salary_udf = udf(parse_salary, StringType())\n",
    "df = df.withColumn(\"salary\", parse_salary_udf(col(\"salary\")))\n",
    "rdd = df.rdd.map(lambda row: row.asDict())"
   ]
  },
  {
   "cell_type": "code",
   "execution_count": 34,
   "id": "83ab852a-f56f-494a-b761-93160c8efa66",
   "metadata": {},
   "outputs": [
    {
     "name": "stdout",
     "output_type": "stream",
     "text": [
      "+----------+\n",
      "|experience|\n",
      "+----------+\n",
      "|        2 |\n",
      "|        1 |\n",
      "|        1 |\n",
      "|        1 |\n",
      "|         0|\n",
      "|         0|\n",
      "|        2 |\n",
      "|        1 |\n",
      "|        1 |\n",
      "|         0|\n",
      "|         0|\n",
      "|        1 |\n",
      "|        1 |\n",
      "|         0|\n",
      "|         0|\n",
      "|        1 |\n",
      "|        1 |\n",
      "|         0|\n",
      "|        2 |\n",
      "|         0|\n",
      "+----------+\n",
      "only showing top 20 rows\n",
      "\n"
     ]
    }
   ],
   "source": [
    "# Experience\n",
    "def transform_experience(df):\n",
    "    df = df.withColumn(\"experience\", when(col(\"experience\") == \"Chưa có kinh nghiệm\", 0).otherwise(col(\"experience\")))\n",
    "    \n",
    "    df = df.withColumn(\"experience\", regexp_replace(col(\"experience\"), \"(Dưới |Hơn |năm)\", \"\"))\n",
    "    return df\n",
    "\n",
    "transformed_df = transform_experience(df)\n",
    "\n",
    "# Hiển thị kết quả\n",
    "transformed_df.select(\"experience\").show()"
   ]
  },
  {
   "cell_type": "code",
   "execution_count": 45,
   "id": "9ae66f32-6776-460a-93ae-36b5a13332fd",
   "metadata": {},
   "outputs": [
    {
     "name": "stdout",
     "output_type": "stream",
     "text": [
      "+----+\n",
      "|type|\n",
      "+----+\n",
      "|NULL|\n",
      "|NULL|\n",
      "|NULL|\n",
      "|NULL|\n",
      "|NULL|\n",
      "|NULL|\n",
      "|NULL|\n",
      "|NULL|\n",
      "|NULL|\n",
      "|NULL|\n",
      "|NULL|\n",
      "|NULL|\n",
      "|NULL|\n",
      "|NULL|\n",
      "|NULL|\n",
      "|NULL|\n",
      "|NULL|\n",
      "|NULL|\n",
      "|NULL|\n",
      "|NULL|\n",
      "|NULL|\n",
      "|NULL|\n",
      "|NULL|\n",
      "|NULL|\n",
      "|NULL|\n",
      "|NULL|\n",
      "|NULL|\n",
      "|NULL|\n",
      "|NULL|\n",
      "|NULL|\n",
      "|NULL|\n",
      "|NULL|\n",
      "|NULL|\n",
      "|NULL|\n",
      "|NULL|\n",
      "|NULL|\n",
      "|NULL|\n",
      "|NULL|\n",
      "|NULL|\n",
      "|NULL|\n",
      "|NULL|\n",
      "|NULL|\n",
      "|NULL|\n",
      "|NULL|\n",
      "|NULL|\n",
      "|NULL|\n",
      "|NULL|\n",
      "|NULL|\n",
      "|NULL|\n",
      "|NULL|\n",
      "+----+\n",
      "only showing top 50 rows\n",
      "\n"
     ]
    }
   ],
   "source": [
    "# Type\n",
    "# 0. Toàn thời gian cố định\n",
    "# 1. Bán thời gian cố định\n",
    "# 2. Toàn thời gian tạm thời\n",
    "# 3. Khác\n",
    "df = df.withColumn(\n",
    "    \"type\",\n",
    "    when(col(\"type\") == \"Toàn thời gian cố định\", 0)\n",
    "    .when(col(\"type\") == \"Bán thời gian cố định\", 1)\n",
    "    .when(col(\"type\") == \"Toàn thời gian tạm thời\", 2)\n",
    "    .when(col(\"type\") == \"Khác\", 3)\n",
    "    .otherwise(None)\n",
    ")\n",
    "df.select(\"type\").show(50)\n"
   ]
  },
  {
   "cell_type": "code",
   "execution_count": null,
   "id": "0c3ac9d3-97b6-4319-bfad-ce79c09ef747",
   "metadata": {},
   "outputs": [],
   "source": []
  }
 ],
 "metadata": {
  "kernelspec": {
   "display_name": "Python 3 (ipykernel)",
   "language": "python",
   "name": "python3"
  },
  "language_info": {
   "codemirror_mode": {
    "name": "ipython",
    "version": 3
   },
   "file_extension": ".py",
   "mimetype": "text/x-python",
   "name": "python",
   "nbconvert_exporter": "python",
   "pygments_lexer": "ipython3",
   "version": "3.10.12"
  }
 },
 "nbformat": 4,
 "nbformat_minor": 5
}
