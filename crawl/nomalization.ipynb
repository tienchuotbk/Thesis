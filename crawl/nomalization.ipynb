{
 "cells": [
  {
   "cell_type": "code",
   "execution_count": 1,
   "id": "370fa7cc-6e16-4abe-978f-9472fe05db1e",
   "metadata": {},
   "outputs": [
    {
     "name": "stderr",
     "output_type": "stream",
     "text": [
      "24/05/22 21:53:41 WARN Utils: Your hostname, chuot-HP-Pavilion-Laptop-14-ce3xxx resolves to a loopback address: 127.0.1.1; using 192.168.1.5 instead (on interface wlo1)\n",
      "24/05/22 21:53:41 WARN Utils: Set SPARK_LOCAL_IP if you need to bind to another address\n",
      "Setting default log level to \"WARN\".\n",
      "To adjust logging level use sc.setLogLevel(newLevel). For SparkR, use setLogLevel(newLevel).\n",
      "24/05/22 21:53:42 WARN NativeCodeLoader: Unable to load native-hadoop library for your platform... using builtin-java classes where applicable\n",
      "24/05/22 21:53:43 WARN Utils: Service 'SparkUI' could not bind on port 4040. Attempting port 4041.\n"
     ]
    }
   ],
   "source": [
    "import findspark\n",
    "findspark.init('/opt/spark')  # Adjust the path if Spark is installed elsewhere\n",
    "\n",
    "from pyspark.sql import SparkSession\n",
    "spark = SparkSession.builder.master(\"local\").appName(\"example\").getOrCreate()"
   ]
  },
  {
   "cell_type": "code",
   "execution_count": 16,
   "id": "7e6d42a9-d8fc-4066-a8a6-a6f15ab149ca",
   "metadata": {},
   "outputs": [
    {
     "name": "stdout",
     "output_type": "stream",
     "text": [
      "Chưa cập nhật\n",
      "Chuyên viên- nhân viên\n",
      "Quản lý cấp cao\n",
      "Cộng tác viên\n",
      "Chuyên gia\n",
      "Quản lý nhóm- giám sát\n",
      "Quản lý cấp trung\n"
     ]
    }
   ],
   "source": [
    "# Define the path to your JSON file\n",
    "from pyspark.sql.functions import col, udf, to_date, when, regexp_extract, explode, col, regexp_replace, to_timestamp, concat, lit\n",
    "from pyspark.sql.types import StructType, StructField, IntegerType, FloatType, StringType, ArrayType\n",
    "import json\n",
    "import re\n",
    "json_file_path = 'vieclam24h.json'\n",
    "# Read the JSON file into a DataFrame\n",
    "df = spark.read.option(\"multiline\",\"true\").json(json_file_path)\n",
    "\n",
    "# df_exploded = df.select(explode(col(\"category\")).alias(\"unique_category\"))\n",
    "\n",
    "# unique_categories = df_exploded.select(\"unique_category\").distinct().collect()\n",
    "# print(len(unique_categories))\n",
    "# for row in unique_categories:\n",
    "#     pass\n",
    "#     print(row.unique_category)\n",
    "# unique_experience_df = df.select(\"experience\").distinct()\n",
    "\n",
    "# unique_experience_df.show()\n",
    "\n",
    "# from pyspark.sql.functions import col\n",
    "unique_values = df.select(col(\"role\")).distinct().collect()\n",
    "\n",
    "# In ra các giá trị duy nhất\n",
    "for row in unique_values:\n",
    "    print(row.role)\n",
    "\n",
    "\n",
    "\n",
    "\n",
    "\n",
    "#rdd.toDF().select(\"salary\").show(1)\n",
    "\n",
    "# Salary\n"
   ]
  },
  {
   "cell_type": "code",
   "execution_count": null,
   "id": "8a60b22f-12a0-49dd-8dea-3eff6c326da1",
   "metadata": {},
   "outputs": [],
   "source": [
    "# Salary\n",
    "def parse_salary(salary):\n",
    "    if salary is None or salary.lower() == \"thỏa thuận\":\n",
    "        return json.dumps({\"type\": 2, \"min\": None, \"max\": None, \"fixed_value\": None})\n",
    "    elif \"triệu\" in salary:\n",
    "        salary = salary.replace(\" triệu\", \"\").replace(\",\", \".\").strip()\n",
    "        if \"-\" in salary:\n",
    "            min_salary, max_salary = salary.split(\"-\")\n",
    "            return json.dumps({\"type\": 1, \"min\": float(min_salary), \"max\": float(max_salary), \"fixed_value\": None})\n",
    "        else:\n",
    "            return json.dumps({\"type\": 0, \"min\": None, \"max\": None, \"fixed_value\": float(salary)})\n",
    "    return json.dumps({\"type\": 2, \"min\": None, \"max\": None, \"fixed_value\": None})\n",
    "\n",
    "parse_salary_udf = udf(parse_salary, StringType())\n",
    "df = df.withColumn(\"salary\", parse_salary_udf(col(\"salary\")))\n",
    "rdd = df.rdd.map(lambda row: row.asDict())"
   ]
  },
  {
   "cell_type": "code",
   "execution_count": 34,
   "id": "83ab852a-f56f-494a-b761-93160c8efa66",
   "metadata": {},
   "outputs": [
    {
     "name": "stdout",
     "output_type": "stream",
     "text": [
      "+----------+\n",
      "|experience|\n",
      "+----------+\n",
      "|        2 |\n",
      "|        1 |\n",
      "|        1 |\n",
      "|        1 |\n",
      "|         0|\n",
      "|         0|\n",
      "|        2 |\n",
      "|        1 |\n",
      "|        1 |\n",
      "|         0|\n",
      "|         0|\n",
      "|        1 |\n",
      "|        1 |\n",
      "|         0|\n",
      "|         0|\n",
      "|        1 |\n",
      "|        1 |\n",
      "|         0|\n",
      "|        2 |\n",
      "|         0|\n",
      "+----------+\n",
      "only showing top 20 rows\n",
      "\n"
     ]
    }
   ],
   "source": [
    "# Experience\n",
    "def transform_experience(df):\n",
    "    df = df.withColumn(\"experience\", when(col(\"experience\") == \"Chưa có kinh nghiệm\", 0).otherwise(col(\"experience\")))\n",
    "    \n",
    "    df = df.withColumn(\"experience\", regexp_replace(col(\"experience\"), \"(Dưới |Hơn |năm)\", \"\"))\n",
    "    return df\n",
    "\n",
    "transformed_df = transform_experience(df)\n",
    "\n",
    "# Hiển thị kết quả\n",
    "transformed_df.select(\"experience\").show()"
   ]
  },
  {
   "cell_type": "code",
   "execution_count": 64,
   "id": "9ae66f32-6776-460a-93ae-36b5a13332fd",
   "metadata": {},
   "outputs": [
    {
     "name": "stdout",
     "output_type": "stream",
     "text": [
      "+----+\n",
      "|type|\n",
      "+----+\n",
      "|   0|\n",
      "|   0|\n",
      "|   0|\n",
      "|   0|\n",
      "|   0|\n",
      "+----+\n",
      "only showing top 5 rows\n",
      "\n"
     ]
    }
   ],
   "source": [
    "# Type\n",
    "# 0. Toàn thời gian cố định\n",
    "# 1. Bán thời gian cố định\n",
    "# 2. Toàn thời gian tạm thời\n",
    "# 3. Khác\n",
    "df = df.withColumn(\n",
    "    \"type\",\n",
    "     when(col(\"type\") == \"Toàn thời gian cố định\", 0)\n",
    "    .when(col(\"type\") == \"Bán thời gian cố định\", 1)\n",
    "    .when(col(\"type\") == \"Toàn thời gian tạm thời\", 2)\n",
    "    .when(col(\"type\") == \"Khác\", 3)\n",
    "    .otherwise(None)\n",
    ")\n",
    "df.select(\"type\").show(5)\n"
   ]
  },
  {
   "cell_type": "code",
   "execution_count": 3,
   "id": "0c3ac9d3-97b6-4319-bfad-ce79c09ef747",
   "metadata": {},
   "outputs": [
    {
     "name": "stdout",
     "output_type": "stream",
     "text": [
      "+-------------------+\n",
      "|         expiration|\n",
      "+-------------------+\n",
      "|2024-06-15 00:00:00|\n",
      "|2024-06-15 00:00:00|\n",
      "|2024-05-31 00:00:00|\n",
      "|2024-06-15 00:00:00|\n",
      "|2024-05-21 00:00:00|\n",
      "+-------------------+\n",
      "only showing top 5 rows\n",
      "\n"
     ]
    }
   ],
   "source": [
    "# Expiration\n",
    "df = df.withColumn(\"expiration\", to_timestamp(concat(col(\"expiration\"), lit(\" 00:00:00\")), \"dd/MM/yyyy HH:mm:ss\"))\n",
    "df.select(\"expiration\").show(5)"
   ]
  },
  {
   "cell_type": "code",
   "execution_count": 12,
   "id": "50d4178e-c0be-4771-a834-e39150efa388",
   "metadata": {},
   "outputs": [
    {
     "name": "stdout",
     "output_type": "stream",
     "text": [
      "+--------------------+\n",
      "|         description|\n",
      "+--------------------+\n",
      "|[Sửa chữa, bảo dư...|\n",
      "|[Trực tiếp kiểm t...|\n",
      "|[Thi công, lắp đặ...|\n",
      "|[Nhận và xử lý cá...|\n",
      "|[Tìm kiếm khách h...|\n",
      "+--------------------+\n",
      "only showing top 5 rows\n",
      "\n"
     ]
    }
   ],
   "source": [
    "# Description\n",
    "def clean_description(description):\n",
    "    return [re.sub(r'^[\\-\\•\\d\\.\\s]+', '', desc).strip() for desc in description]\n",
    "clean_description_udf = udf(clean_description, ArrayType(StringType()))\n",
    "df = df.withColumn(\"description\", clean_description_udf(col(\"description\")))\n",
    "df.select(\"description\").show(5)\n"
   ]
  },
  {
   "cell_type": "code",
   "execution_count": 17,
   "id": "a9b2369e-f885-4fbf-aafb-df35fb9e7f92",
   "metadata": {},
   "outputs": [
    {
     "name": "stdout",
     "output_type": "stream",
     "text": [
      "+----+\n",
      "|role|\n",
      "+----+\n",
      "|   1|\n",
      "|   1|\n",
      "|   1|\n",
      "|   1|\n",
      "|   1|\n",
      "|   1|\n",
      "|   5|\n",
      "|   1|\n",
      "|   1|\n",
      "|   1|\n",
      "|   1|\n",
      "|   1|\n",
      "|   1|\n",
      "|   2|\n",
      "|   1|\n",
      "|   1|\n",
      "|   1|\n",
      "|   1|\n",
      "|   1|\n",
      "|   1|\n",
      "|   1|\n",
      "|   1|\n",
      "|   1|\n",
      "|   1|\n",
      "|   5|\n",
      "|   1|\n",
      "|   1|\n",
      "|   1|\n",
      "|   1|\n",
      "|   1|\n",
      "|   1|\n",
      "|   1|\n",
      "|   1|\n",
      "|   1|\n",
      "|   1|\n",
      "|   1|\n",
      "|   1|\n",
      "|   1|\n",
      "|   1|\n",
      "|   1|\n",
      "|   1|\n",
      "|   1|\n",
      "|   1|\n",
      "|   1|\n",
      "|   1|\n",
      "|   1|\n",
      "|   1|\n",
      "|   1|\n",
      "|   1|\n",
      "|   1|\n",
      "+----+\n",
      "only showing top 50 rows\n",
      "\n"
     ]
    }
   ],
   "source": [
    "# Role\n",
    "def classify_role(role):\n",
    "    if role == \"Chuyên viên- nhân viên\":\n",
    "        return 1\n",
    "    elif role == \"Quản lý cấp cao\":\n",
    "        return 2\n",
    "    elif role == \"Cộng tác viên\":\n",
    "        return 3\n",
    "    elif role == \"Chuyên gia\":\n",
    "        return 4\n",
    "    elif role == \"Quản lý nhóm- giám sát\":\n",
    "        return 5\n",
    "    elif role == \"Quản lý cấp trung\":\n",
    "        return 6\n",
    "    else:\n",
    "        return 0\n",
    "classify_role_udf = udf(classify_role, IntegerType())\n",
    "df = df.withColumn(\"role\", classify_role_udf(col(\"role\")))\n",
    "\n",
    "df.select(\"role\").show(50)\n"
   ]
  },
  {
   "cell_type": "code",
   "execution_count": null,
   "id": "357d112d-e498-4e68-a19e-939883f610cb",
   "metadata": {},
   "outputs": [],
   "source": []
  }
 ],
 "metadata": {
  "kernelspec": {
   "display_name": "Python 3 (ipykernel)",
   "language": "python",
   "name": "python3"
  },
  "language_info": {
   "codemirror_mode": {
    "name": "ipython",
    "version": 3
   },
   "file_extension": ".py",
   "mimetype": "text/x-python",
   "name": "python",
   "nbconvert_exporter": "python",
   "pygments_lexer": "ipython3",
   "version": "3.10.12"
  }
 },
 "nbformat": 4,
 "nbformat_minor": 5
}
